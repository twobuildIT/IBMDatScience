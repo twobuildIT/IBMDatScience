{
 "cells": [
  {
   "cell_type": "markdown",
   "metadata": {
    "collapsed": true
   },
   "source": [
    "<a href=\"https://www.bigdatauniversity.com\"><img src=\"https://ibm.box.com/shared/static/cw2c7r3o20w9zn8gkecaeyjhgw3xdgbj.png\" width=\"400\" align=\"center\"></a>\n",
    "\n",
    "<h1 align=\"center\"><font size=\"5\">Final Project Data Science</font></h1>\n",
    "\n"
   ]
  },
  {
   "cell_type": "markdown",
   "metadata": {},
   "source": [
    "<h3 align=\"center\">Applied Data Science Capstone by IBM/Coursera</h3>\n"
   ]
  },
  {
   "cell_type": "markdown",
   "metadata": {},
   "source": [
    "## Table of contents\n",
    "* [Business Problem](#BusinessProblem)\n",
    "* [Data](#Data)\n"
   ]
  },
  {
   "cell_type": "markdown",
   "metadata": {},
   "source": [
    "# Business Problem <a name=\"BusinessProblem\"></a>"
   ]
  },
  {
   "cell_type": "markdown",
   "metadata": {},
   "source": [
    "Road accidents can occur at any time and may expose road users to risk of harm that could result in serious injury or loss of life. In this project am seeking to reduce the number of road injuries and fatalities by creating a tool to **warn drivers** of possible accident occurance when negative road conditions exist.\n",
    "\n",
    "There are many different kinds of road users. This report will be focus **vechile drivers** where an early warning accident system could possible **reduce or stop potential accidents**.\n",
    "\n",
    "Data science gives us the oppurtunity to identify key factors that contribute to accidents and predict when these dangerous scenarios are most likely to occur.\n",
    "\n"
   ]
  },
  {
   "cell_type": "markdown",
   "metadata": {},
   "source": [
    "# Data <a name=\"Data\"></a>"
   ]
  },
  {
   "cell_type": "markdown",
   "metadata": {},
   "source": [
    "As described in the business problem we want to identify the factors that contribute to road accident occurance. The data sets used were chosen based on accessibility and comprehensive data factors with the possibility to provide meaningful analysis in deriving the following two main accident outcomes:\n",
    "\n",
    "* Injury\n",
    "* Loss of life\n",
    "\n",
    "I will be utilizing the collisions (speeding, pedestrian and fatal collision) data sets from Toronto Police Service for road incidents. The data sets shows road collisions for the year 2006 in the Toronto area as measured by the Police Service. Road collisions measured in these data sets include: car, pedestrian, and vehicle accidents. \n"
   ]
  },
  {
   "cell_type": "code",
   "execution_count": null,
   "metadata": {
    "scrolled": true
   },
   "outputs": [],
   "source": []
  }
 ],
 "metadata": {
  "kernelspec": {
   "display_name": "Python 3",
   "language": "python",
   "name": "python3"
  },
  "language_info": {
   "codemirror_mode": {
    "name": "ipython",
    "version": 3
   },
   "file_extension": ".py",
   "mimetype": "text/x-python",
   "name": "python",
   "nbconvert_exporter": "python",
   "pygments_lexer": "ipython3",
   "version": "3.7.4"
  }
 },
 "nbformat": 4,
 "nbformat_minor": 1
}
